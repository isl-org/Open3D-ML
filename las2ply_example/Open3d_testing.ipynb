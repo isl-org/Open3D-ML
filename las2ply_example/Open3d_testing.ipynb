{
 "cells": [
  {
   "cell_type": "code",
   "execution_count": 2,
   "id": "0c3ff67e-62b6-42d5-91f7-6024f2e8ce4f",
   "metadata": {},
   "outputs": [
    {
     "name": "stdout",
     "output_type": "stream",
     "text": [
      "Jupyter environment detected. Enabling Open3D WebVisualizer.\n",
      "[Open3D INFO] WebRTC GUI backend enabled.\n",
      "[Open3D INFO] WebRTCWindowSystem: HTTP handshake server disabled.\n"
     ]
    }
   ],
   "source": [
    "import open3d as o3d\n",
    "import os\n",
    "import open3d.ml as _ml3d\n",
    "import open3d.ml.torch as ml3d\n",
    "import laspy\n",
    "import numpy as np"
   ]
  },
  {
   "cell_type": "markdown",
   "id": "db467f09-150e-4dbf-a7d9-bd56940cafff",
   "metadata": {},
   "source": [
    "Loading .LAS file"
   ]
  },
  {
   "cell_type": "code",
   "execution_count": 3,
   "id": "4edf353c",
   "metadata": {},
   "outputs": [
    {
     "name": "stderr",
     "output_type": "stream",
     "text": [
      "--2024-06-21 00:21:35--  https://storage.googleapis.com/open3d-releases/model-zoo/randlanet_semantickitti_202201071330utc.pth\n",
      "Resolving storage.googleapis.com (storage.googleapis.com)... 216.58.199.251, 216.58.200.27, 142.251.223.91, ...\n",
      "Connecting to storage.googleapis.com (storage.googleapis.com)|216.58.199.251|:443... connected.\n",
      "HTTP request sent, awaiting response... 200 OK\n",
      "Length: 5101179 (4.9M) [application/octet-stream]\n",
      "Saving to: ‘./logs/randlanet_semantickitti_202201071330utc.pth’\n",
      "\n",
      "     0K .......... .......... .......... .......... ..........  1% 3.23M 1s\n",
      "    50K .......... .......... .......... .......... ..........  2% 7.23M 1s\n",
      "   100K .......... .......... .......... .......... ..........  3% 10.8M 1s\n",
      "   150K .......... .......... .......... .......... ..........  4% 14.4M 1s\n",
      "   200K .......... .......... .......... .......... ..........  5% 21.2M 1s\n",
      "   250K .......... .......... .......... .......... ..........  6% 23.4M 1s\n",
      "   300K .......... .......... .......... .......... ..........  7% 32.4M 0s\n",
      "   350K .......... .......... .......... .......... ..........  8% 33.4M 0s\n",
      "   400K .......... .......... .......... .......... ..........  9% 46.2M 0s\n",
      "   450K .......... .......... .......... .......... .......... 10% 28.4M 0s\n",
      "   500K .......... .......... .......... .......... .......... 11% 34.0M 0s\n",
      "   550K .......... .......... .......... .......... .......... 12% 44.1M 0s\n",
      "   600K .......... .......... .......... .......... .......... 13% 77.1M 0s\n",
      "   650K .......... .......... .......... .......... .......... 14% 76.7M 0s\n",
      "   700K .......... .......... .......... .......... .......... 15% 70.7M 0s\n",
      "   750K .......... .......... .......... .......... .......... 16% 36.8M 0s\n",
      "   800K .......... .......... .......... .......... .......... 17% 74.3M 0s\n",
      "   850K .......... .......... .......... .......... .......... 18% 87.0M 0s\n",
      "   900K .......... .......... .......... .......... .......... 19% 81.8M 0s\n",
      "   950K .......... .......... .......... .......... .......... 20% 53.5M 0s\n",
      "  1000K .......... .......... .......... .......... .......... 21% 70.1M 0s\n",
      "  1050K .......... .......... .......... .......... .......... 22%  144M 0s\n",
      "  1100K .......... .......... .......... .......... .......... 23%  178M 0s\n",
      "  1150K .......... .......... .......... .......... .......... 24%  115M 0s\n",
      "  1200K .......... .......... .......... .......... .......... 25%  149M 0s\n",
      "  1250K .......... .......... .......... .......... .......... 26% 89.3M 0s\n",
      "  1300K .......... .......... .......... .......... .......... 27%  153M 0s\n",
      "  1350K .......... .......... .......... .......... .......... 28% 72.2M 0s\n",
      "  1400K .......... .......... .......... .......... .......... 29%  242M 0s\n",
      "  1450K .......... .......... .......... .......... .......... 30% 75.4M 0s\n",
      "  1500K .......... .......... .......... .......... .......... 31%  224M 0s\n",
      "  1550K .......... .......... .......... .......... .......... 32%  161M 0s\n",
      "  1600K .......... .......... .......... .......... .......... 33% 93.7M 0s\n",
      "  1650K .......... .......... .......... .......... .......... 34%  103M 0s\n",
      "  1700K .......... .......... .......... .......... .......... 35%  152M 0s\n",
      "  1750K .......... .......... .......... .......... .......... 36% 81.2M 0s\n",
      "  1800K .......... .......... .......... .......... .......... 37%  114M 0s\n",
      "  1850K .......... .......... .......... .......... .......... 38% 90.7M 0s\n",
      "  1900K .......... .......... .......... .......... .......... 39%  172M 0s\n",
      "  1950K .......... .......... .......... .......... .......... 40% 51.7M 0s\n",
      "  2000K .......... .......... .......... .......... .......... 41%  176M 0s\n",
      "  2050K .......... .......... .......... .......... .......... 42%  108M 0s\n",
      "  2100K .......... .......... .......... .......... .......... 43% 83.1M 0s\n",
      "  2150K .......... .......... .......... .......... .......... 44%  105M 0s\n",
      "  2200K .......... .......... .......... .......... .......... 45% 89.3M 0s\n",
      "  2250K .......... .......... .......... .......... .......... 46% 77.4M 0s\n",
      "  2300K .......... .......... .......... .......... .......... 47%  150M 0s\n",
      "  2350K .......... .......... .......... .......... .......... 48%  138M 0s\n",
      "  2400K .......... .......... .......... .......... .......... 49%  121M 0s\n",
      "  2450K .......... .......... .......... .......... .......... 50%  102M 0s\n",
      "  2500K .......... .......... .......... .......... .......... 51%  143M 0s\n",
      "  2550K .......... .......... .......... .......... .......... 52% 57.2M 0s\n",
      "  2600K .......... .......... .......... .......... .......... 53%  132M 0s\n",
      "  2650K .......... .......... .......... .......... .......... 54%  174M 0s\n",
      "  2700K .......... .......... .......... .......... .......... 55%  178M 0s\n",
      "  2750K .......... .......... .......... .......... .......... 56%  111M 0s\n",
      "  2800K .......... .......... .......... .......... .......... 57%  102M 0s\n",
      "  2850K .......... .......... .......... .......... .......... 58% 63.0M 0s\n",
      "  2900K .......... .......... .......... .......... .......... 59%  161M 0s\n",
      "  2950K .......... .......... .......... .......... .......... 60%  124M 0s\n",
      "  3000K .......... .......... .......... .......... .......... 61%  112M 0s\n",
      "  3050K .......... .......... .......... .......... .......... 62% 96.4M 0s\n",
      "  3100K .......... .......... .......... .......... .......... 63%  134M 0s\n",
      "  3150K .......... .......... .......... .......... .......... 64% 83.8M 0s\n",
      "  3200K .......... .......... .......... .......... .......... 65% 49.5M 0s\n",
      "  3250K .......... .......... .......... .......... .......... 66% 74.7M 0s\n",
      "  3300K .......... .......... .......... .......... .......... 67% 88.4M 0s\n",
      "  3350K .......... .......... .......... .......... .......... 68% 91.3M 0s\n",
      "  3400K .......... .......... .......... .......... .......... 69% 88.6M 0s\n",
      "  3450K .......... .......... .......... .......... .......... 70%  111M 0s\n",
      "  3500K .......... .......... .......... .......... .......... 71%  109M 0s\n",
      "  3550K .......... .......... .......... .......... .......... 72%  103M 0s\n",
      "  3600K .......... .......... .......... .......... .......... 73% 87.6M 0s\n",
      "  3650K .......... .......... .......... .......... .......... 74% 90.3M 0s\n",
      "  3700K .......... .......... .......... .......... .......... 75%  116M 0s\n",
      "  3750K .......... .......... .......... .......... .......... 76%  128M 0s\n",
      "  3800K .......... .......... .......... .......... .......... 77%  154M 0s\n",
      "  3850K .......... .......... .......... .......... .......... 78%  145M 0s\n",
      "  3900K .......... .......... .......... .......... .......... 79%  165M 0s\n",
      "  3950K .......... .......... .......... .......... .......... 80%  148M 0s\n",
      "  4000K .......... .......... .......... .......... .......... 81%  146M 0s\n",
      "  4050K .......... .......... .......... .......... .......... 82%  110M 0s\n",
      "  4100K .......... .......... .......... .......... .......... 83%  145M 0s\n",
      "  4150K .......... .......... .......... .......... .......... 84%  154M 0s\n",
      "  4200K .......... .......... .......... .......... .......... 85%  319M 0s\n",
      "  4250K .......... .......... .......... .......... .......... 86%  102M 0s\n",
      "  4300K .......... .......... .......... .......... .......... 87% 79.8M 0s\n",
      "  4350K .......... .......... .......... .......... .......... 88%  196M 0s\n",
      "  4400K .......... .......... .......... .......... .......... 89%  138M 0s\n",
      "  4450K .......... .......... .......... .......... .......... 90%  109M 0s\n",
      "  4500K .......... .......... .......... .......... .......... 91% 92.6M 0s\n",
      "  4550K .......... .......... .......... .......... .......... 92%  124M 0s\n",
      "  4600K .......... .......... .......... .......... .......... 93%  103M 0s\n",
      "  4650K .......... .......... .......... .......... .......... 94% 91.3M 0s\n",
      "  4700K .......... .......... .......... .......... .......... 95% 74.1M 0s\n",
      "  4750K .......... .......... .......... .......... .......... 96%  120M 0s\n",
      "  4800K .......... .......... .......... .......... .......... 97%  128M 0s\n",
      "  4850K .......... .......... .......... .......... .......... 98%  109M 0s\n",
      "  4900K .......... .......... .......... .......... .......... 99%  136M 0s\n",
      "  4950K .......... .......... .......... .                    100%  126M=0.08s\n",
      "\n",
      "2024-06-21 00:21:36 (57.6 MB/s) - ‘./logs/randlanet_semantickitti_202201071330utc.pth’ saved [5101179/5101179]\n",
      "\n"
     ]
    },
    {
     "ename": "NotADirectoryError",
     "evalue": "[Errno 20] Not a directory: '/home/jeevin/Open3D-ML/jeevin/BLOK_D_1.las/dataset/sequences/11/velodyne'",
     "output_type": "error",
     "traceback": [
      "\u001b[0;31m---------------------------------------------------------------------------\u001b[0m",
      "\u001b[0;31mNotADirectoryError\u001b[0m                        Traceback (most recent call last)",
      "Cell \u001b[0;32mIn[3], line 23\u001b[0m\n\u001b[1;32m     20\u001b[0m \u001b[38;5;66;03m# load the parameters.\u001b[39;00m\n\u001b[1;32m     21\u001b[0m pipeline\u001b[38;5;241m.\u001b[39mload_ckpt(ckpt_path\u001b[38;5;241m=\u001b[39mckpt_path)\n\u001b[0;32m---> 23\u001b[0m test_split \u001b[38;5;241m=\u001b[39m \u001b[43mdataset\u001b[49m\u001b[38;5;241;43m.\u001b[39;49m\u001b[43mget_split\u001b[49m\u001b[43m(\u001b[49m\u001b[38;5;124;43m\"\u001b[39;49m\u001b[38;5;124;43mtest\u001b[39;49m\u001b[38;5;124;43m\"\u001b[39;49m\u001b[43m)\u001b[49m\n\u001b[1;32m     24\u001b[0m data \u001b[38;5;241m=\u001b[39m test_split\u001b[38;5;241m.\u001b[39mget_data(\u001b[38;5;241m0\u001b[39m)\n\u001b[1;32m     26\u001b[0m \u001b[38;5;66;03m# run inference on a single example.\u001b[39;00m\n\u001b[1;32m     27\u001b[0m \u001b[38;5;66;03m# returns dict with 'predict_labels' and 'predict_scores'.\u001b[39;00m\n",
      "File \u001b[0;32m~/miniconda3/envs/bim/lib/python3.10/site-packages/open3d/_ml3d/datasets/semantickitti.py:142\u001b[0m, in \u001b[0;36mSemanticKITTI.get_split\u001b[0;34m(self, split)\u001b[0m\n\u001b[1;32m    132\u001b[0m \u001b[38;5;28;01mdef\u001b[39;00m \u001b[38;5;21mget_split\u001b[39m(\u001b[38;5;28mself\u001b[39m, split):\n\u001b[1;32m    133\u001b[0m \u001b[38;5;250m    \u001b[39m\u001b[38;5;124;03m\"\"\"Returns a dataset split.\u001b[39;00m\n\u001b[1;32m    134\u001b[0m \n\u001b[1;32m    135\u001b[0m \u001b[38;5;124;03m    Args:\u001b[39;00m\n\u001b[0;32m   (...)\u001b[0m\n\u001b[1;32m    140\u001b[0m \u001b[38;5;124;03m        A dataset split object providing the requested subset of the data.\u001b[39;00m\n\u001b[1;32m    141\u001b[0m \u001b[38;5;124;03m    \"\"\"\u001b[39;00m\n\u001b[0;32m--> 142\u001b[0m     \u001b[38;5;28;01mreturn\u001b[39;00m \u001b[43mSemanticKITTISplit\u001b[49m\u001b[43m(\u001b[49m\u001b[38;5;28;43mself\u001b[39;49m\u001b[43m,\u001b[49m\u001b[43m \u001b[49m\u001b[43msplit\u001b[49m\u001b[38;5;241;43m=\u001b[39;49m\u001b[43msplit\u001b[49m\u001b[43m)\u001b[49m\n",
      "File \u001b[0;32m~/miniconda3/envs/bim/lib/python3.10/site-packages/open3d/_ml3d/datasets/semantickitti.py:260\u001b[0m, in \u001b[0;36mSemanticKITTISplit.__init__\u001b[0;34m(self, dataset, split)\u001b[0m\n\u001b[1;32m    259\u001b[0m \u001b[38;5;28;01mdef\u001b[39;00m \u001b[38;5;21m__init__\u001b[39m(\u001b[38;5;28mself\u001b[39m, dataset, split\u001b[38;5;241m=\u001b[39m\u001b[38;5;124m'\u001b[39m\u001b[38;5;124mtraining\u001b[39m\u001b[38;5;124m'\u001b[39m):\n\u001b[0;32m--> 260\u001b[0m     \u001b[38;5;28;43msuper\u001b[39;49m\u001b[43m(\u001b[49m\u001b[43m)\u001b[49m\u001b[38;5;241;43m.\u001b[39;49m\u001b[38;5;21;43m__init__\u001b[39;49m\u001b[43m(\u001b[49m\u001b[43mdataset\u001b[49m\u001b[43m,\u001b[49m\u001b[43m \u001b[49m\u001b[43msplit\u001b[49m\u001b[38;5;241;43m=\u001b[39;49m\u001b[43msplit\u001b[49m\u001b[43m)\u001b[49m\n\u001b[1;32m    261\u001b[0m     log\u001b[38;5;241m.\u001b[39minfo(\u001b[38;5;124m\"\u001b[39m\u001b[38;5;124mFound \u001b[39m\u001b[38;5;132;01m{}\u001b[39;00m\u001b[38;5;124m pointclouds for \u001b[39m\u001b[38;5;132;01m{}\u001b[39;00m\u001b[38;5;124m\"\u001b[39m\u001b[38;5;241m.\u001b[39mformat(\u001b[38;5;28mlen\u001b[39m(\u001b[38;5;28mself\u001b[39m\u001b[38;5;241m.\u001b[39mpath_list),\n\u001b[1;32m    262\u001b[0m                                                   split))\n\u001b[1;32m    263\u001b[0m     \u001b[38;5;28mself\u001b[39m\u001b[38;5;241m.\u001b[39mremap_lut_val \u001b[38;5;241m=\u001b[39m dataset\u001b[38;5;241m.\u001b[39mremap_lut_val\n",
      "File \u001b[0;32m~/miniconda3/envs/bim/lib/python3.10/site-packages/open3d/_ml3d/datasets/base_dataset.py:122\u001b[0m, in \u001b[0;36mBaseDatasetSplit.__init__\u001b[0;34m(self, dataset, split)\u001b[0m\n\u001b[1;32m    120\u001b[0m \u001b[38;5;28;01mdef\u001b[39;00m \u001b[38;5;21m__init__\u001b[39m(\u001b[38;5;28mself\u001b[39m, dataset, split\u001b[38;5;241m=\u001b[39m\u001b[38;5;124m'\u001b[39m\u001b[38;5;124mtraining\u001b[39m\u001b[38;5;124m'\u001b[39m):\n\u001b[1;32m    121\u001b[0m     \u001b[38;5;28mself\u001b[39m\u001b[38;5;241m.\u001b[39mcfg \u001b[38;5;241m=\u001b[39m dataset\u001b[38;5;241m.\u001b[39mcfg\n\u001b[0;32m--> 122\u001b[0m     path_list \u001b[38;5;241m=\u001b[39m \u001b[43mdataset\u001b[49m\u001b[38;5;241;43m.\u001b[39;49m\u001b[43mget_split_list\u001b[49m\u001b[43m(\u001b[49m\u001b[43msplit\u001b[49m\u001b[43m)\u001b[49m\n\u001b[1;32m    123\u001b[0m     \u001b[38;5;28mself\u001b[39m\u001b[38;5;241m.\u001b[39mpath_list \u001b[38;5;241m=\u001b[39m path_list\n\u001b[1;32m    124\u001b[0m     \u001b[38;5;28mself\u001b[39m\u001b[38;5;241m.\u001b[39msplit \u001b[38;5;241m=\u001b[39m split\n",
      "File \u001b[0;32m~/miniconda3/envs/bim/lib/python3.10/site-packages/open3d/_ml3d/datasets/semantickitti.py:250\u001b[0m, in \u001b[0;36mSemanticKITTI.get_split_list\u001b[0;34m(self, split)\u001b[0m\n\u001b[1;32m    246\u001b[0m \u001b[38;5;28;01mfor\u001b[39;00m seq_id \u001b[38;5;129;01min\u001b[39;00m seq_list:\n\u001b[1;32m    247\u001b[0m     pc_path \u001b[38;5;241m=\u001b[39m join(dataset_path, \u001b[38;5;124m'\u001b[39m\u001b[38;5;124mdataset\u001b[39m\u001b[38;5;124m'\u001b[39m, \u001b[38;5;124m'\u001b[39m\u001b[38;5;124msequences\u001b[39m\u001b[38;5;124m'\u001b[39m, seq_id,\n\u001b[1;32m    248\u001b[0m                    \u001b[38;5;124m'\u001b[39m\u001b[38;5;124mvelodyne\u001b[39m\u001b[38;5;124m'\u001b[39m)\n\u001b[1;32m    249\u001b[0m     file_list\u001b[38;5;241m.\u001b[39mappend(\n\u001b[0;32m--> 250\u001b[0m         [join(pc_path, f) \u001b[38;5;28;01mfor\u001b[39;00m f \u001b[38;5;129;01min\u001b[39;00m np\u001b[38;5;241m.\u001b[39msort(\u001b[43mos\u001b[49m\u001b[38;5;241;43m.\u001b[39;49m\u001b[43mlistdir\u001b[49m\u001b[43m(\u001b[49m\u001b[43mpc_path\u001b[49m\u001b[43m)\u001b[49m)])\n\u001b[1;32m    252\u001b[0m file_list \u001b[38;5;241m=\u001b[39m np\u001b[38;5;241m.\u001b[39mconcatenate(file_list, axis\u001b[38;5;241m=\u001b[39m\u001b[38;5;241m0\u001b[39m)\n\u001b[1;32m    254\u001b[0m \u001b[38;5;28;01mreturn\u001b[39;00m file_list\n",
      "\u001b[0;31mNotADirectoryError\u001b[0m: [Errno 20] Not a directory: '/home/jeevin/Open3D-ML/jeevin/BLOK_D_1.las/dataset/sequences/11/velodyne'"
     ]
    }
   ],
   "source": [
    "cfg_file = \"/home/jeevin/Open3D-ML/ml3d/configs/randlanet_semantickitti.yml\"\n",
    "cfg = _ml3d.utils.Config.load_from_file(cfg_file)\n",
    "\n",
    "\n",
    "model = ml3d.models.RandLANet(**cfg.model)\n",
    "cfg.dataset['dataset_path'] = \"/home/jeevin/Open3D-ML/jeevin/BLOK_D_1.las\"\n",
    "dataset = ml3d.datasets.SemanticKITTI(cfg.dataset.pop('dataset_path', None), **cfg.dataset)\n",
    "pipeline = ml3d.pipelines.SemanticSegmentation(model, dataset=dataset, device=\"gpu\", **cfg.pipeline)\n",
    "\n",
    "\n",
    "# download the weights.\n",
    "ckpt_folder = \"./logs/\"\n",
    "os.makedirs(ckpt_folder, exist_ok=True)\n",
    "ckpt_path = ckpt_folder + \"randlanet_semantickitti_202201071330utc.pth\"\n",
    "randlanet_url = \"https://storage.googleapis.com/open3d-releases/model-zoo/randlanet_semantickitti_202201071330utc.pth\"\n",
    "if not os.path.exists(ckpt_path):\n",
    "    cmd = \"wget {} -O {}\".format(randlanet_url, ckpt_path)\n",
    "    os.system(cmd)\n",
    "\n",
    "# load the parameters.\n",
    "pipeline.load_ckpt(ckpt_path=ckpt_path)\n",
    "\n",
    "test_split = dataset.get_split(\"test\")\n",
    "data = test_split.get_data(0)\n",
    "\n",
    "# run inference on a single example.\n",
    "# returns dict with 'predict_labels' and 'predict_scores'.\n",
    "result = pipeline.run_inference(data)\n",
    "\n",
    "# evaluate performance on the test set; this will write logs to './logs'.\n",
    "pipeline.run_test()"
   ]
  },
  {
   "cell_type": "code",
   "execution_count": 2,
   "id": "4fc2e58b-478b-4506-8bcd-aba1cbaa3337",
   "metadata": {},
   "outputs": [
    {
     "name": "stdout",
     "output_type": "stream",
     "text": [
      "/home/jeevin/Open3D-ML/jeevin/BLOK D 1.las\n"
     ]
    }
   ],
   "source": [
    "las_file_path = \"BLOK D 1.las\"\n",
    "abs_path = os.path.abspath(las_file_path)\n",
    "print(abs_path)\n",
    "las = laspy.read(las_file_path)\n",
    "\n",
    "# Convert to numpy\n",
    "points = np.vstack((las.x, las.y, las.z)).transpose()"
   ]
  },
  {
   "cell_type": "markdown",
   "id": "0c49eee8-f2b9-404d-a766-ed4237b419c4",
   "metadata": {},
   "source": [
    "Create an Open3D PointCloud object"
   ]
  },
  {
   "cell_type": "code",
   "execution_count": 5,
   "id": "b34bf4e7-8d3c-492d-8222-996906f3e3ce",
   "metadata": {},
   "outputs": [],
   "source": [
    "pcd = o3d.geometry.PointCloud()\n",
    "pcd.points = o3d.utility.Vector3dVector(points)\n",
    "\n",
    "if hasattr(las, 'red') and hasattr(las, 'green') and hasattr(las, 'blue'):\n",
    "    colors = np.vstack((las.red, las.green, las.blue)).transpose()\n",
    "    colors = colors / 65535.0  # Normalize the color values if necessary\n",
    "    pcd.colors = o3d.utility.Vector3dVector(colors)\n",
    "\n",
    "o3d.visualization.draw_geometries([pcd])"
   ]
  }
 ],
 "metadata": {
  "kernelspec": {
   "display_name": "Python 3 (ipykernel)",
   "language": "python",
   "name": "python3"
  },
  "language_info": {
   "codemirror_mode": {
    "name": "ipython",
    "version": 3
   },
   "file_extension": ".py",
   "mimetype": "text/x-python",
   "name": "python",
   "nbconvert_exporter": "python",
   "pygments_lexer": "ipython3",
   "version": "3.10.14"
  }
 },
 "nbformat": 4,
 "nbformat_minor": 5
}

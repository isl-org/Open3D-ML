{
 "cells": [
  {
   "cell_type": "code",
   "execution_count": 5,
   "metadata": {},
   "outputs": [
    {
     "name": "stdout",
     "output_type": "stream",
     "text": [
      "\n",
      "Loading .pkl files in the current directory\n",
      "Loading data...\n",
      "[]\n"
     ]
    }
   ],
   "source": [
    "import open3d.ml as _ml3d\n",
    "import open3d.ml.torch as ml3d\n",
    "from custom_load import CustomDataLoader\n",
    "import os\n",
    "\n",
    "\n",
    "cfg_directory = os.path.expanduser(\"~/Open3D-ML_PRISM/ml3d/configs/\")\n",
    "cfg_file = os.path.join(cfg_directory, \"randlanet_parislille3d.yml\")\n",
    "cfg = _ml3d.utils.Config.load_from_file(cfg_file)\n",
    "cfg.model['in_channels'] = 3 #3 for models without colours and 6 for models with colours\n",
    "las_path = r\"/home/jeevin/Open3D-ML_PRISM/utils/LOT_BUNGALOW.las\"\n",
    "\n",
    "testing = CustomDataLoader(las_path=las_path, cfg = cfg) \n",
    "\n",
    "# import laspy\n",
    "# las_file = laspy.read(r\"/home/jeevin/Open3D-ML_PRISM/utils/LOT_BUNGALOW.las\")\n",
    "# from pprint import pprint\n",
    "# pprint(vars(las_file.classification))\n",
    "# import numpy as np\n",
    "# npy_las = np.load(\"utils/utils_Data.npy\")\n",
    "# print(npy_las)\n",
    "\n",
    "\n",
    "results = testing.load_data(ext='pkl')\n",
    "print(results)\n",
    "\n",
    "\n",
    "    "
   ]
  }
 ],
 "metadata": {
  "kernelspec": {
   "display_name": "bim",
   "language": "python",
   "name": "python3"
  },
  "language_info": {
   "codemirror_mode": {
    "name": "ipython",
    "version": 3
   },
   "file_extension": ".py",
   "mimetype": "text/x-python",
   "name": "python",
   "nbconvert_exporter": "python",
   "pygments_lexer": "ipython3",
   "version": "3.10.13"
  }
 },
 "nbformat": 4,
 "nbformat_minor": 2
}

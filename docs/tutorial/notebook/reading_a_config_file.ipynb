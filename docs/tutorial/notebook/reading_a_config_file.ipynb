{
  "cells": [
    {
      "cell_type": "markdown",
      "metadata": {
        "id": "HuZ6L7hOOn5k"
      },
      "source": [
        "# Config Files & How to Use Them 🚀🌍💫\n",
        "\n",
        "Look at the code snippet below:\n",
        "\n",
        "```py\n",
        "# Read a dataset by specifying the path. We can pass other arguments like cache directory and training split.\n",
        "\n",
        "dataset = ml3d.datasets.SemanticKITTI(dataset_path='SemanticKITTI/',\n",
        "                                      cache_dir='./logs/cache',\n",
        "                                      training_split=['00'],\n",
        "                                      validation_split=['01'],\n",
        "                                      test_split=['01'])\n",
        "```\n",
        "\n",
        "The `dataset` object is created by explicitly passing dataset-specific parameters to the constructor of `ml3d.datasets.SemanticKITTI` class. Instead of passing these parameters one after another manually, we may use config files to automate our processes. Each config file in Open3D-ML contains parameters (i.e key-value pairs) for `dataset`, `model` and `pipeline` in general.\n",
        "\n",
        "\n",
        "> 📝 **Note:** We use [YAML format](https://en.wikipedia.org/wiki/YAML) for defining our config files.\n",
        "\n",
        "\n",
        "In this tutorial, we will learn how to:\n",
        "\n",
        "- Load a config file into `Config` class object.\n",
        "- Parse data dictionaries from the loaded `Config` object.\n",
        "- Access individual dictionaries in the `Config` object.\n",
        "- Access individual elements within the dictionaries."
      ]
    },
    {
      "cell_type": "markdown",
      "metadata": {
        "id": "cUBl1Cr_Ox0X"
      },
      "source": [
        "## ⏬ Necessary Imports"
      ]
    },
    {
      "cell_type": "code",
      "execution_count": null,
      "metadata": {
        "id": "ovckaoW7L8Il"
      },
      "outputs": [],
      "source": [
        "from pprint import pprint\n",
        "from open3d.ml import utils\n",
        "import open3d.ml.torch as ml3d"
      ]
    },
    {
      "cell_type": "markdown",
      "metadata": {
        "id": "X5tjQ_IbO2zv"
      },
      "source": [
        "Here, we import two modules from Open3D:\n",
        "    \n",
        "   1. `utils`: Open3D-ML utilities. Used for reading config file in this tutorial.\n",
        "   2. `ml3d`: Open3D-ML PyTorch API library. Used for building multiple datasets, models and pipelines."
      ]
    },
    {
      "cell_type": "markdown",
      "metadata": {
        "id": "l_mUk15iYs1M"
      },
      "source": [
        "## 📖 Loading YAML Config File\n",
        "\n",
        "`cfg_file` contains relative or absolute path of our config file. First, let us have a look at the contents of our config file as a raw text document."
      ]
    },
    {
      "cell_type": "code",
      "execution_count": null,
      "metadata": {
        "colab": {
          "base_uri": "https://localhost:8080/"
        },
        "id": "Ps9uy8PdMP3n",
        "outputId": "398b5617-ce7c-49d2-a0d7-559f6049bd63"
      },
      "outputs": [
        {
          "name": "stdout",
          "output_type": "stream",
          "text": [
            "dataset:\n",
            "  name: SemanticKITTI\n",
            "  dataset_path:  # path/to/your/dataset\n",
            "  cache_dir: ./logs/cache\n",
            "  class_weights: [55437630, 320797, 541736, 2578735, 3274484, 552662, 184064,\n",
            "    78858, 240942562, 17294618, 170599734, 6369672, 230413074, 101130274,\n",
            "    476491114, 9833174, 129609852, 4506626, 1168181]\n",
            "  test_result_folder: ./test\n",
            "  test_split: ['11', '12', '13', '14', '15', '16', '17', '18', '19', '20', '21']\n",
            "  training_split: ['00', '01', '02', '03', '04', '05', '06', '07', '09', '10']\n",
            "  all_split: ['00', '01', '02', '03', '04', '05', '06', '07', '09',\n",
            "  '08', '10', '11', '12', '13', '14', '15', '16', '17', '18', '19', '20', '21']\n",
            "  validation_split: ['08']\n",
            "  use_cache: true\n",
            "  sampler:\n",
            "    name: 'SemSegRandomSampler'\n",
            "model:\n",
            "  name: RandLANet\n",
            "  batcher: DefaultBatcher\n",
            "  ckpt_path: # path/to/your/checkpoint\n",
            "  num_neighbors: 16\n",
            "  num_layers: 4\n",
            "  num_points: 45056\n",
            "  num_classes: 19\n",
            "  ignored_label_inds: [0]\n",
            "  sub_sampling_ratio: [4, 4, 4, 4]\n",
            "  in_channels: 3\n",
            "  dim_features: 8\n",
            "  dim_output: [16, 64, 128, 256]\n",
            "  grid_size: 0.06\n",
            "  augment:\n",
            "    recenter:\n",
            "      dim: [0, 1]\n",
            "pipeline:\n",
            "  name: SemanticSegmentation\n",
            "  optimizer:\n",
            "    lr: 0.001\n",
            "  batch_size: 4\n",
            "  main_log_dir: ./logs\n",
            "  max_epoch: 100\n",
            "  save_ckpt_freq: 5\n",
            "  scheduler_gamma: 0.9886\n",
            "  test_batch_size: 1\n",
            "  train_sum_dir: train_log\n",
            "  val_batch_size: 2\n",
            "  summary:\n",
            "    record_for: []\n",
            "    max_pts:\n",
            "    use_reference: false\n",
            "    max_outputs: 1\n"
          ]
        }
      ],
      "source": [
        "cfg_file = \"../../../ml3d/configs/randlanet_semantickitti.yml\"\n",
        "!cat {cfg_file}"
      ]
    },
    {
      "cell_type": "markdown",
      "metadata": {
        "id": "hKMexYybYkP-"
      },
      "source": [
        "Here, we can see that the file is divided into three different parts - `dataset`, `model` and `pipeline`.\n",
        "\n",
        "Let us load the config file as `Config` class object. This can be done with the help of `utils.Config.load_from_file` which takes path of config file as input."
      ]
    },
    {
      "cell_type": "code",
      "execution_count": null,
      "metadata": {
        "id": "5D_L3_83QOKn"
      },
      "outputs": [],
      "source": [
        "cfg = utils.Config.load_from_file(cfg_file)"
      ]
    },
    {
      "cell_type": "markdown",
      "metadata": {
        "id": "MuX4CWK2bDSx"
      },
      "source": [
        "## 🩺 Examining Dataset Dictionaries\n",
        "\n",
        "Let us try to access the contents of `cfg` object."
      ]
    },
    {
      "cell_type": "code",
      "execution_count": null,
      "metadata": {
        "id": "CQ0-UwSDnjE9"
      },
      "outputs": [],
      "source": [
        "pprint(vars(cfg))"
      ]
    },
    {
      "cell_type": "code",
      "execution_count": null,
      "metadata": {
        "colab": {
          "base_uri": "https://localhost:8080/"
        },
        "id": "zh2lMW9-a9uA",
        "outputId": "96bf255e-6f32-4176-80a9-19c8bd35c91e"
      },
      "outputs": [
        {
          "data": {
            "text/plain": [
              "dict_keys(['dataset', 'model', 'pipeline'])"
            ]
          },
          "execution_count": 5,
          "metadata": {},
          "output_type": "execute_result"
        }
      ],
      "source": [
        "cfg.keys()"
      ]
    },
    {
      "cell_type": "markdown",
      "metadata": {
        "id": "LFLfMDWZgAiF"
      },
      "source": [
        "`cfg` has three dictionaries - `dataset`, `model` and `pipeline` (like we saw in the raw YAML file).\n",
        "\n",
        "Let us explore them.\n"
      ]
    },
    {
      "cell_type": "markdown",
      "metadata": {
        "id": "FxF0zIk_gENP"
      },
      "source": [
        "### 🔎 Accessing Individual Dictionaries"
      ]
    },
    {
      "cell_type": "markdown",
      "metadata": {
        "id": "jcXRnojldAg4"
      },
      "source": [
        "The first one is `cfg.dataset` dictionary:"
      ]
    },
    {
      "cell_type": "code",
      "execution_count": null,
      "metadata": {
        "id": "4RJAlyYXdFNE"
      },
      "outputs": [],
      "source": [
        "pprint(cfg.dataset)"
      ]
    },
    {
      "cell_type": "markdown",
      "metadata": {
        "id": "m6BwrYfefhXB"
      },
      "source": [
        "Similary, let us access `model` and `pipeline` dictionaries:"
      ]
    },
    {
      "cell_type": "code",
      "execution_count": null,
      "metadata": {
        "colab": {
          "base_uri": "https://localhost:8080/"
        },
        "id": "8kS7MiWXe5WJ",
        "outputId": "6f2fc220-f915-43eb-fe25-bf0d7e61af16"
      },
      "outputs": [
        {
          "name": "stdout",
          "output_type": "stream",
          "text": [
            "{'augment': {'recenter': {'dim': [0, 1]}},\n",
            " 'batcher': 'DefaultBatcher',\n",
            " 'ckpt_path': None,\n",
            " 'dim_features': 8,\n",
            " 'dim_output': [16, 64, 128, 256],\n",
            " 'grid_size': 0.06,\n",
            " 'ignored_label_inds': [0],\n",
            " 'in_channels': 3,\n",
            " 'name': 'RandLANet',\n",
            " 'num_classes': 19,\n",
            " 'num_layers': 4,\n",
            " 'num_neighbors': 16,\n",
            " 'num_points': 45056,\n",
            " 'sub_sampling_ratio': [4, 4, 4, 4]}\n"
          ]
        }
      ],
      "source": [
        "pprint(cfg.model)"
      ]
    },
    {
      "cell_type": "code",
      "execution_count": null,
      "metadata": {
        "colab": {
          "base_uri": "https://localhost:8080/"
        },
        "id": "c5gA4AAbfz6T",
        "outputId": "e8430591-3914-4e1f-f268-291aff5fa00b"
      },
      "outputs": [
        {
          "name": "stdout",
          "output_type": "stream",
          "text": [
            "{'batch_size': 4,\n",
            " 'main_log_dir': './logs',\n",
            " 'max_epoch': 100,\n",
            " 'name': 'SemanticSegmentation',\n",
            " 'optimizer': {'lr': 0.001},\n",
            " 'save_ckpt_freq': 5,\n",
            " 'scheduler_gamma': 0.9886,\n",
            " 'summary': {'max_outputs': 1,\n",
            "             'max_pts': None,\n",
            "             'record_for': [],\n",
            "             'use_reference': False},\n",
            " 'test_batch_size': 1,\n",
            " 'train_sum_dir': 'train_log',\n",
            " 'val_batch_size': 2}\n"
          ]
        }
      ],
      "source": [
        "pprint(cfg.pipeline)"
      ]
    },
    {
      "cell_type": "markdown",
      "metadata": {
        "id": "0nsPOf9HhwEX"
      },
      "source": [
        "### 🔭 Accessing Individual Elements within The Dictionaries\n",
        "\n",
        "> 📝 **Note:** The dictionary items within `Config` class object can be viewed & updated just like a standard Python dictionary. It is mutable.\n",
        "\n",
        "List all the keys available inside `dataset` dictionary (just like the built-in `dict` data type) using:"
      ]
    },
    {
      "cell_type": "code",
      "execution_count": null,
      "metadata": {
        "colab": {
          "base_uri": "https://localhost:8080/"
        },
        "id": "m4uYJwpNf2NI",
        "outputId": "d22bdd79-987a-4ad3-ca92-2221e24964be"
      },
      "outputs": [
        {
          "data": {
            "text/plain": [
              "dict_keys(['name', 'dataset_path', 'cache_dir', 'class_weights', 'test_result_folder', 'test_split', 'training_split', 'all_split', 'validation_split', 'use_cache', 'sampler'])"
            ]
          },
          "execution_count": 9,
          "metadata": {},
          "output_type": "execute_result"
        }
      ],
      "source": [
        "cfg.dataset.keys()"
      ]
    },
    {
      "cell_type": "markdown",
      "metadata": {
        "id": "HVSQdzSVkCvj"
      },
      "source": [
        "We may access any of the available keys and even update their values as shown below:"
      ]
    },
    {
      "cell_type": "code",
      "execution_count": null,
      "metadata": {
        "colab": {
          "base_uri": "https://localhost:8080/",
          "height": 35
        },
        "id": "3b5kKjXqi49F",
        "outputId": "d8c9805f-2c28-47f4-a790-4fcb5d93df08"
      },
      "outputs": [
        {
          "data": {
            "application/vnd.google.colaboratory.intrinsic+json": {
              "type": "string"
            },
            "text/plain": [
              "'./logs/cache'"
            ]
          },
          "execution_count": 52,
          "metadata": {},
          "output_type": "execute_result"
        }
      ],
      "source": [
        "cfg.dataset['cache_dir'] # Access individual element"
      ]
    },
    {
      "cell_type": "code",
      "execution_count": null,
      "metadata": {
        "colab": {
          "base_uri": "https://localhost:8080/",
          "height": 35
        },
        "id": "MzWyZOCzkcYm",
        "outputId": "dfc5ac13-d665-4362-8327-19a936e54968"
      },
      "outputs": [
        {
          "data": {
            "application/vnd.google.colaboratory.intrinsic+json": {
              "type": "string"
            },
            "text/plain": [
              "'./logs/new_cache'"
            ]
          },
          "execution_count": 55,
          "metadata": {},
          "output_type": "execute_result"
        }
      ],
      "source": [
        "# Update individual element\n",
        "cfg.dataset['cache_dir'] = './logs/new_cache'\n",
        "cfg.dataset['cache_dir']"
      ]
    },
    {
      "cell_type": "markdown",
      "metadata": {
        "id": "_Tg6uATMlS2_"
      },
      "source": [
        "We may do the same for any of the individual elements of `cfg.model` and `cfg.pipeline`. Try it yourselves!"
      ]
    },
    {
      "cell_type": "markdown",
      "metadata": {
        "id": "K3nfhHYOlMPT"
      },
      "source": [
        "## 🏗️ Initializing Dataset From a Config File\n",
        "\n",
        "We saw how to load, probe and mutate config files in the above examples. \n",
        "\n",
        "Let us now explicitly create a `dataset` object which will hold all the information from the `cfg.dataset` dictionary\n"
      ]
    },
    {
      "cell_type": "code",
      "execution_count": null,
      "metadata": {
        "id": "h6F0X4qUktSw"
      },
      "outputs": [],
      "source": [
        "dataset = ml3d.datasets.SemanticKITTI(cfg.dataset)"
      ]
    },
    {
      "cell_type": "markdown",
      "metadata": {
        "id": "kGS_BcrVoCly"
      },
      "source": [
        "Properties exposed by the newly-created `dataset` can be accessed using the `vars` built-in function."
      ]
    },
    {
      "cell_type": "code",
      "execution_count": null,
      "metadata": {
        "colab": {
          "base_uri": "https://localhost:8080/"
        },
        "id": "Ouh81Bl9nJ7n",
        "outputId": "68a4379c-5e0c-45ab-aaf9-4338e91313b7"
      },
      "outputs": [
        {
          "data": {
            "text/plain": [
              "{'cfg': <open3d._ml3d.utils.config.Config at 0x7f588ac3b390>,\n",
              " 'label_to_names': {0: 'unlabeled',\n",
              "  1: 'car',\n",
              "  2: 'bicycle',\n",
              "  3: 'motorcycle',\n",
              "  4: 'truck',\n",
              "  5: 'other-vehicle',\n",
              "  6: 'person',\n",
              "  7: 'bicyclist',\n",
              "  8: 'motorcyclist',\n",
              "  9: 'road',\n",
              "  10: 'parking',\n",
              "  11: 'sidewalk',\n",
              "  12: 'other-ground',\n",
              "  13: 'building',\n",
              "  14: 'fence',\n",
              "  15: 'vegetation',\n",
              "  16: 'trunk',\n",
              "  17: 'terrain',\n",
              "  18: 'pole',\n",
              "  19: 'traffic-sign'},\n",
              " 'name': 'SemanticKITTI',\n",
              " 'num_classes': 20,\n",
              " 'remap_lut': array([ 0, 10, 11, 15, 18, 20, 30, 31, 32, 40, 44, 48, 49, 50, 51, 70, 71,\n",
              "        72, 80, 81,  0,  0,  0,  0,  0,  0,  0,  0,  0,  0,  0,  0,  0,  0,\n",
              "         0,  0,  0,  0,  0,  0,  0,  0,  0,  0,  0,  0,  0,  0,  0,  0,  0,\n",
              "         0,  0,  0,  0,  0,  0,  0,  0,  0,  0,  0,  0,  0,  0,  0,  0,  0,\n",
              "         0,  0,  0,  0,  0,  0,  0,  0,  0,  0,  0,  0,  0,  0,  0,  0,  0,\n",
              "         0,  0,  0,  0,  0,  0,  0,  0,  0,  0,  0,  0,  0,  0,  0,  0,  0,\n",
              "         0,  0,  0,  0,  0,  0,  0,  0,  0,  0,  0,  0,  0,  0,  0,  0,  0],\n",
              "       dtype=int32),\n",
              " 'remap_lut_val': array([ 0,  0,  0,  0,  0,  0,  0,  0,  0,  0,  1,  2,  0,  5,  0,  3,  5,\n",
              "         0,  4,  0,  5,  0,  0,  0,  0,  0,  0,  0,  0,  0,  6,  7,  8,  0,\n",
              "         0,  0,  0,  0,  0,  0,  9,  0,  0,  0, 10,  0,  0,  0, 11, 12, 13,\n",
              "        14,  0,  0,  0,  0,  0,  0,  0,  0,  9,  0,  0,  0,  0,  0,  0,  0,\n",
              "         0,  0, 15, 16, 17,  0,  0,  0,  0,  0,  0,  0, 18, 19,  0,  0,  0,\n",
              "         0,  0,  0,  0,  0,  0,  0,  0,  0,  0,  0,  0,  0,  0,  0,  0,  0,\n",
              "         0,  0,  0,  0,  0,  0,  0,  0,  0,  0,  0,  0,  0,  0,  0,  0,  0,\n",
              "         0,  0,  0,  0,  0,  0,  0,  0,  0,  0,  0,  0,  0,  0,  0,  0,  0,\n",
              "         0,  0,  0,  0,  0,  0,  0,  0,  0,  0,  0,  0,  0,  0,  0,  0,  0,\n",
              "         0,  0,  0,  0,  0,  0,  0,  0,  0,  0,  0,  0,  0,  0,  0,  0,  0,\n",
              "         0,  0,  0,  0,  0,  0,  0,  0,  0,  0,  0,  0,  0,  0,  0,  0,  0,\n",
              "         0,  0,  0,  0,  0,  0,  0,  0,  0,  0,  0,  0,  0,  0,  0,  0,  0,\n",
              "         0,  0,  0,  0,  0,  0,  0,  0,  0,  0,  0,  0,  0,  0,  0,  0,  0,\n",
              "         0,  0,  0,  0,  0,  0,  0,  0,  0,  0,  0,  0,  0,  0,  0,  0,  0,\n",
              "         0,  0,  0,  0,  0,  0,  0,  0,  0,  0,  0,  0,  0,  0,  1,  7,  6,\n",
              "         8,  5,  5,  4,  5,  0,  0,  0,  0,  0,  0,  0,  0,  0,  0,  0,  0,\n",
              "         0,  0,  0,  0,  0,  0,  0,  0,  0,  0,  0,  0,  0,  0,  0,  0,  0,\n",
              "         0,  0,  0,  0,  0,  0,  0,  0,  0,  0,  0,  0,  0,  0,  0,  0,  0,\n",
              "         0,  0,  0,  0,  0,  0,  0,  0,  0,  0,  0,  0,  0,  0,  0,  0,  0,\n",
              "         0,  0,  0,  0,  0,  0,  0,  0,  0,  0,  0,  0,  0,  0,  0,  0,  0,\n",
              "         0,  0,  0,  0,  0,  0,  0,  0,  0,  0,  0,  0,  0,  0,  0,  0,  0,\n",
              "         0,  0], dtype=int32),\n",
              " 'rng': Generator(PCG64) at 0x7F588A480410}"
            ]
          },
          "execution_count": 13,
          "metadata": {},
          "output_type": "execute_result"
        }
      ],
      "source": [
        "vars(dataset)"
      ]
    },
    {
      "cell_type": "markdown",
      "metadata": {
        "id": "qJnfIBMSozmI"
      },
      "source": [
        "We may reference any `dataset` object property using `{object_name}.{property_name}` syntax. For example, `num_classes` property can be accessed using:"
      ]
    },
    {
      "cell_type": "code",
      "execution_count": null,
      "metadata": {
        "colab": {
          "base_uri": "https://localhost:8080/"
        },
        "id": "nNAPTS1KnM51",
        "outputId": "d996d144-29b4-4949-acae-3e64619a34e9"
      },
      "outputs": [
        {
          "data": {
            "text/plain": [
              "20"
            ]
          },
          "execution_count": 58,
          "metadata": {},
          "output_type": "execute_result"
        }
      ],
      "source": [
        "dataset.num_classes"
      ]
    },
    {
      "cell_type": "markdown",
      "metadata": {
        "id": "dFRA2m3XpUK_"
      },
      "source": [
        "Likewise, to extract information from `label_to_names` property (which maps class label IDs to the class label names), we can call:"
      ]
    },
    {
      "cell_type": "code",
      "execution_count": null,
      "metadata": {
        "colab": {
          "base_uri": "https://localhost:8080/"
        },
        "id": "G23BdpxopT1o",
        "outputId": "4c4baae6-3f11-47a0-fe71-1dc5f7586f42"
      },
      "outputs": [
        {
          "data": {
            "text/plain": [
              "{0: 'unlabeled',\n",
              " 1: 'car',\n",
              " 2: 'bicycle',\n",
              " 3: 'motorcycle',\n",
              " 4: 'truck',\n",
              " 5: 'other-vehicle',\n",
              " 6: 'person',\n",
              " 7: 'bicyclist',\n",
              " 8: 'motorcyclist',\n",
              " 9: 'road',\n",
              " 10: 'parking',\n",
              " 11: 'sidewalk',\n",
              " 12: 'other-ground',\n",
              " 13: 'building',\n",
              " 14: 'fence',\n",
              " 15: 'vegetation',\n",
              " 16: 'trunk',\n",
              " 17: 'terrain',\n",
              " 18: 'pole',\n",
              " 19: 'traffic-sign'}"
            ]
          },
          "execution_count": 59,
          "metadata": {},
          "output_type": "execute_result"
        }
      ],
      "source": [
        "dataset.label_to_names"
      ]
    },
    {
      "cell_type": "markdown",
      "metadata": {
        "id": "mgH74x-4p7Yw"
      },
      "source": [
        "Experiment with other `dataset` properties to see how convenient it is to reference them!"
      ]
    }
  ],
  "metadata": {
    "colab": {
      "authorship_tag": "ABX9TyMuXl08rXCzSMbxSTsTLHiQ",
      "collapsed_sections": [],
      "include_colab_link": true,
      "name": "reading_a_config_file.ipynb",
      "provenance": []
    },
    "kernelspec": {
      "display_name": "Python 3",
      "name": "python3"
    },
    "language_info": {
      "name": "python"
    }
  },
  "nbformat": 4,
  "nbformat_minor": 0
}

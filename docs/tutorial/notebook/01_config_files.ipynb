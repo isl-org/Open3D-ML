{
 "cells": [
  {
   "cell_type": "markdown",
   "id": "e9b3f3ad",
   "metadata": {},
   "source": [
    "# Config files\n",
    "\n",
    "This tutorial shows basic usage of config files."
   ]
  },
  {
   "cell_type": "markdown",
   "id": "96bbfc12",
   "metadata": {},
   "source": [
    "## Basic format\n",
    "We use [YAML format](https://en.wikipedia.org/wiki/YAML) for defining our config files. A config file in Open3D-ML always has the following parameters:\n",
    "\n",
    "1. `dataset`: Contains key-value pairs related to training, validation and test dataset.  \n",
    "2. `model`: Contains key-value pairs realted to model architecture.\n",
    "3. `pipeline`: Contains key-value pairs related to the training, testing and inference pipleine."
   ]
  },
  {
   "cell_type": "markdown",
   "id": "b79af95f",
   "metadata": {},
   "source": [
    "For example, `randlanet_semantickitti.yml` config file uses RandLA-Net *model* architecture, SemanticKITTI *dataset* and semantic segmentation *pipeline*. Let us have a look at it's contents as a raw text file."
   ]
  },
  {
   "cell_type": "code",
   "execution_count": 1,
   "id": "40d8af8c",
   "metadata": {},
   "outputs": [],
   "source": [
    "cfg_file = \"../../../ml3d/configs/randlanet_semantickitti.yml\"\n",
    "%pycat {cfg_file}"
   ]
  },
  {
   "cell_type": "markdown",
   "id": "31a57041",
   "metadata": {},
   "source": [
    "<div class=\"alert alert-info\">\n",
    "**Note:** You may find such config files available at <a>https://github.com/isl-org/Open3D-ML/tree/master/ml3d/configs</a>\n",
    "</div>"
   ]
  },
  {
   "cell_type": "markdown",
   "id": "5a75070d",
   "metadata": {},
   "source": [
    "### Reading a config file\n",
    "\n",
    "In order to access the key-value pairs we must load the file into memory as `Config` class object. `Config` class object's usage is very much similar to standard Python dictionary `dict`."
   ]
  },
  {
   "cell_type": "code",
   "execution_count": 2,
   "id": "8c60d9c0",
   "metadata": {},
   "outputs": [
    {
     "name": "stdout",
     "output_type": "stream",
     "text": [
      "Jupyter environment detected. Enabling Open3D WebVisualizer.\n",
      "[Open3D INFO] WebRTC GUI backend enabled.\n",
      "[Open3D INFO] WebRTCWindowSystem: HTTP handshake server disabled.\n"
     ]
    }
   ],
   "source": [
    "import open3d.ml as _ml3d\n",
    "\n",
    "cfg = _ml3d.utils.Config.load_from_file(cfg_file)"
   ]
  },
  {
   "cell_type": "markdown",
   "id": "7fe103b0",
   "metadata": {},
   "source": [
    "`_ml3d.utils.Config.load_from_file(cfg_file)` takes path to config file as input and returns `Config`. \n",
    "\n",
    "<div class=\"alert alert-info\">\n",
    "**Note:**  To avoid `FileNotFoundError`, always make sure that the config file exists at the given location. The config file must be a valid YAML file!  </div>"
   ]
  },
  {
   "cell_type": "markdown",
   "id": "00a48be1",
   "metadata": {},
   "source": [
    "## Accessing parameters\n",
    "\n",
    "Built-in function `vars` grabs all the properties of the object as dictionary"
   ]
  },
  {
   "cell_type": "code",
   "execution_count": 3,
   "id": "da50bb7a",
   "metadata": {},
   "outputs": [
    {
     "data": {
      "text/plain": [
       "{'_cfg_dict': {'dataset': {'name': 'SemanticKITTI',\n",
       "   'dataset_path': None,\n",
       "   'cache_dir': './logs/cache',\n",
       "   'class_weights': [55437630,\n",
       "    320797,\n",
       "    541736,\n",
       "    2578735,\n",
       "    3274484,\n",
       "    552662,\n",
       "    184064,\n",
       "    78858,\n",
       "    240942562,\n",
       "    17294618,\n",
       "    170599734,\n",
       "    6369672,\n",
       "    230413074,\n",
       "    101130274,\n",
       "    476491114,\n",
       "    9833174,\n",
       "    129609852,\n",
       "    4506626,\n",
       "    1168181],\n",
       "   'test_result_folder': './test',\n",
       "   'test_split': ['11',\n",
       "    '12',\n",
       "    '13',\n",
       "    '14',\n",
       "    '15',\n",
       "    '16',\n",
       "    '17',\n",
       "    '18',\n",
       "    '19',\n",
       "    '20',\n",
       "    '21'],\n",
       "   'training_split': ['00',\n",
       "    '01',\n",
       "    '02',\n",
       "    '03',\n",
       "    '04',\n",
       "    '05',\n",
       "    '06',\n",
       "    '07',\n",
       "    '09',\n",
       "    '10'],\n",
       "   'all_split': ['00',\n",
       "    '01',\n",
       "    '02',\n",
       "    '03',\n",
       "    '04',\n",
       "    '05',\n",
       "    '06',\n",
       "    '07',\n",
       "    '09',\n",
       "    '08',\n",
       "    '10',\n",
       "    '11',\n",
       "    '12',\n",
       "    '13',\n",
       "    '14',\n",
       "    '15',\n",
       "    '16',\n",
       "    '17',\n",
       "    '18',\n",
       "    '19',\n",
       "    '20',\n",
       "    '21'],\n",
       "   'validation_split': ['08'],\n",
       "   'use_cache': True,\n",
       "   'sampler': {'name': 'SemSegRandomSampler'}},\n",
       "  'model': {'name': 'RandLANet',\n",
       "   'batcher': 'DefaultBatcher',\n",
       "   'ckpt_path': None,\n",
       "   'num_neighbors': 16,\n",
       "   'num_layers': 4,\n",
       "   'num_points': 45056,\n",
       "   'num_classes': 19,\n",
       "   'ignored_label_inds': [0],\n",
       "   'sub_sampling_ratio': [4, 4, 4, 4],\n",
       "   'in_channels': 3,\n",
       "   'dim_features': 8,\n",
       "   'dim_output': [16, 64, 128, 256],\n",
       "   'grid_size': 0.06,\n",
       "   'augment': {'recenter': {'dim': [0, 1]}}},\n",
       "  'pipeline': {'name': 'SemanticSegmentation',\n",
       "   'optimizer': {'lr': 0.001},\n",
       "   'batch_size': 4,\n",
       "   'main_log_dir': './logs',\n",
       "   'max_epoch': 100,\n",
       "   'save_ckpt_freq': 5,\n",
       "   'scheduler_gamma': 0.9886,\n",
       "   'test_batch_size': 1,\n",
       "   'train_sum_dir': 'train_log',\n",
       "   'val_batch_size': 2,\n",
       "   'summary': {'record_for': [],\n",
       "    'max_pts': None,\n",
       "    'use_reference': False,\n",
       "    'max_outputs': 1}}},\n",
       " 'cfg_dict': {'dataset': {'name': 'SemanticKITTI',\n",
       "   'dataset_path': None,\n",
       "   'cache_dir': './logs/cache',\n",
       "   'class_weights': [55437630,\n",
       "    320797,\n",
       "    541736,\n",
       "    2578735,\n",
       "    3274484,\n",
       "    552662,\n",
       "    184064,\n",
       "    78858,\n",
       "    240942562,\n",
       "    17294618,\n",
       "    170599734,\n",
       "    6369672,\n",
       "    230413074,\n",
       "    101130274,\n",
       "    476491114,\n",
       "    9833174,\n",
       "    129609852,\n",
       "    4506626,\n",
       "    1168181],\n",
       "   'test_result_folder': './test',\n",
       "   'test_split': ['11',\n",
       "    '12',\n",
       "    '13',\n",
       "    '14',\n",
       "    '15',\n",
       "    '16',\n",
       "    '17',\n",
       "    '18',\n",
       "    '19',\n",
       "    '20',\n",
       "    '21'],\n",
       "   'training_split': ['00',\n",
       "    '01',\n",
       "    '02',\n",
       "    '03',\n",
       "    '04',\n",
       "    '05',\n",
       "    '06',\n",
       "    '07',\n",
       "    '09',\n",
       "    '10'],\n",
       "   'all_split': ['00',\n",
       "    '01',\n",
       "    '02',\n",
       "    '03',\n",
       "    '04',\n",
       "    '05',\n",
       "    '06',\n",
       "    '07',\n",
       "    '09',\n",
       "    '08',\n",
       "    '10',\n",
       "    '11',\n",
       "    '12',\n",
       "    '13',\n",
       "    '14',\n",
       "    '15',\n",
       "    '16',\n",
       "    '17',\n",
       "    '18',\n",
       "    '19',\n",
       "    '20',\n",
       "    '21'],\n",
       "   'validation_split': ['08'],\n",
       "   'use_cache': True,\n",
       "   'sampler': {'name': 'SemSegRandomSampler'}},\n",
       "  'model': {'name': 'RandLANet',\n",
       "   'batcher': 'DefaultBatcher',\n",
       "   'ckpt_path': None,\n",
       "   'num_neighbors': 16,\n",
       "   'num_layers': 4,\n",
       "   'num_points': 45056,\n",
       "   'num_classes': 19,\n",
       "   'ignored_label_inds': [0],\n",
       "   'sub_sampling_ratio': [4, 4, 4, 4],\n",
       "   'in_channels': 3,\n",
       "   'dim_features': 8,\n",
       "   'dim_output': [16, 64, 128, 256],\n",
       "   'grid_size': 0.06,\n",
       "   'augment': {'recenter': {'dim': [0, 1]}}},\n",
       "  'pipeline': {'name': 'SemanticSegmentation',\n",
       "   'optimizer': {'lr': 0.001},\n",
       "   'batch_size': 4,\n",
       "   'main_log_dir': './logs',\n",
       "   'max_epoch': 100,\n",
       "   'save_ckpt_freq': 5,\n",
       "   'scheduler_gamma': 0.9886,\n",
       "   'test_batch_size': 1,\n",
       "   'train_sum_dir': 'train_log',\n",
       "   'val_batch_size': 2,\n",
       "   'summary': {'record_for': [],\n",
       "    'max_pts': None,\n",
       "    'use_reference': False,\n",
       "    'max_outputs': 1}}}}"
      ]
     },
     "execution_count": 3,
     "metadata": {},
     "output_type": "execute_result"
    }
   ],
   "source": [
    "vars(cfg)"
   ]
  },
  {
   "cell_type": "markdown",
   "id": "7af1de18",
   "metadata": {},
   "source": [
    "You can list all the keys in the top most level using:"
   ]
  },
  {
   "cell_type": "code",
   "execution_count": 4,
   "id": "e003542b",
   "metadata": {},
   "outputs": [
    {
     "data": {
      "text/plain": [
       "dict_keys(['dataset', 'model', 'pipeline'])"
      ]
     },
     "execution_count": 4,
     "metadata": {},
     "output_type": "execute_result"
    }
   ],
   "source": [
    "cfg.keys()"
   ]
  },
  {
   "cell_type": "markdown",
   "id": "0a4923a4",
   "metadata": {},
   "source": [
    "Here, you can see the three essential components."
   ]
  },
  {
   "cell_type": "markdown",
   "id": "1aa31b4e",
   "metadata": {},
   "source": [
    "You can access configuration values as object attributes (`cfg.{property_name}`) or dictionary key values (`cfg['{property_name}']`).\n",
    "\n",
    "For example, `dataset` dictionary can be accessed using the following code (same can be done for `model` and `pipeline`)"
   ]
  },
  {
   "cell_type": "code",
   "execution_count": 5,
   "id": "ef76e079",
   "metadata": {},
   "outputs": [
    {
     "data": {
      "text/plain": [
       "{'name': 'SemanticKITTI',\n",
       " 'dataset_path': None,\n",
       " 'cache_dir': './logs/cache',\n",
       " 'class_weights': [55437630,\n",
       "  320797,\n",
       "  541736,\n",
       "  2578735,\n",
       "  3274484,\n",
       "  552662,\n",
       "  184064,\n",
       "  78858,\n",
       "  240942562,\n",
       "  17294618,\n",
       "  170599734,\n",
       "  6369672,\n",
       "  230413074,\n",
       "  101130274,\n",
       "  476491114,\n",
       "  9833174,\n",
       "  129609852,\n",
       "  4506626,\n",
       "  1168181],\n",
       " 'test_result_folder': './test',\n",
       " 'test_split': ['11',\n",
       "  '12',\n",
       "  '13',\n",
       "  '14',\n",
       "  '15',\n",
       "  '16',\n",
       "  '17',\n",
       "  '18',\n",
       "  '19',\n",
       "  '20',\n",
       "  '21'],\n",
       " 'training_split': ['00',\n",
       "  '01',\n",
       "  '02',\n",
       "  '03',\n",
       "  '04',\n",
       "  '05',\n",
       "  '06',\n",
       "  '07',\n",
       "  '09',\n",
       "  '10'],\n",
       " 'all_split': ['00',\n",
       "  '01',\n",
       "  '02',\n",
       "  '03',\n",
       "  '04',\n",
       "  '05',\n",
       "  '06',\n",
       "  '07',\n",
       "  '09',\n",
       "  '08',\n",
       "  '10',\n",
       "  '11',\n",
       "  '12',\n",
       "  '13',\n",
       "  '14',\n",
       "  '15',\n",
       "  '16',\n",
       "  '17',\n",
       "  '18',\n",
       "  '19',\n",
       "  '20',\n",
       "  '21'],\n",
       " 'validation_split': ['08'],\n",
       " 'use_cache': True,\n",
       " 'sampler': {'name': 'SemSegRandomSampler'}}"
      ]
     },
     "execution_count": 5,
     "metadata": {},
     "output_type": "execute_result"
    }
   ],
   "source": [
    "cfg.dataset"
   ]
  },
  {
   "cell_type": "markdown",
   "id": "a12fd14a",
   "metadata": {},
   "source": [
    "One other way to access `dataset` parameters is accessing like a built-in `dict`."
   ]
  },
  {
   "cell_type": "code",
   "execution_count": 6,
   "id": "a0312122",
   "metadata": {},
   "outputs": [
    {
     "data": {
      "text/plain": [
       "{'name': 'SemanticKITTI',\n",
       " 'dataset_path': None,\n",
       " 'cache_dir': './logs/cache',\n",
       " 'class_weights': [55437630,\n",
       "  320797,\n",
       "  541736,\n",
       "  2578735,\n",
       "  3274484,\n",
       "  552662,\n",
       "  184064,\n",
       "  78858,\n",
       "  240942562,\n",
       "  17294618,\n",
       "  170599734,\n",
       "  6369672,\n",
       "  230413074,\n",
       "  101130274,\n",
       "  476491114,\n",
       "  9833174,\n",
       "  129609852,\n",
       "  4506626,\n",
       "  1168181],\n",
       " 'test_result_folder': './test',\n",
       " 'test_split': ['11',\n",
       "  '12',\n",
       "  '13',\n",
       "  '14',\n",
       "  '15',\n",
       "  '16',\n",
       "  '17',\n",
       "  '18',\n",
       "  '19',\n",
       "  '20',\n",
       "  '21'],\n",
       " 'training_split': ['00',\n",
       "  '01',\n",
       "  '02',\n",
       "  '03',\n",
       "  '04',\n",
       "  '05',\n",
       "  '06',\n",
       "  '07',\n",
       "  '09',\n",
       "  '10'],\n",
       " 'all_split': ['00',\n",
       "  '01',\n",
       "  '02',\n",
       "  '03',\n",
       "  '04',\n",
       "  '05',\n",
       "  '06',\n",
       "  '07',\n",
       "  '09',\n",
       "  '08',\n",
       "  '10',\n",
       "  '11',\n",
       "  '12',\n",
       "  '13',\n",
       "  '14',\n",
       "  '15',\n",
       "  '16',\n",
       "  '17',\n",
       "  '18',\n",
       "  '19',\n",
       "  '20',\n",
       "  '21'],\n",
       " 'validation_split': ['08'],\n",
       " 'use_cache': True,\n",
       " 'sampler': {'name': 'SemSegRandomSampler'}}"
      ]
     },
     "execution_count": 6,
     "metadata": {},
     "output_type": "execute_result"
    }
   ],
   "source": [
    "cfg['dataset']"
   ]
  },
  {
   "cell_type": "markdown",
   "id": "7116e971",
   "metadata": {},
   "source": [
    "Accessing individual parameters can be done with either `cfg.{property_name}.{property_name}` or `cfg['{property_name}']['{property_name}']` syntax. Inner levels can be accessed using the same idea.\n",
    "\n",
    "Let's try to access `dataset -> sampler`:"
   ]
  },
  {
   "cell_type": "code",
   "execution_count": 7,
   "id": "ae8461fb",
   "metadata": {},
   "outputs": [
    {
     "data": {
      "text/plain": [
       "{'name': 'SemSegRandomSampler'}"
      ]
     },
     "execution_count": 7,
     "metadata": {},
     "output_type": "execute_result"
    }
   ],
   "source": [
    "cfg.dataset.sampler"
   ]
  },
  {
   "cell_type": "markdown",
   "id": "3b58186c",
   "metadata": {},
   "source": [
    "Another approach:"
   ]
  },
  {
   "cell_type": "code",
   "execution_count": 8,
   "id": "39176453",
   "metadata": {},
   "outputs": [
    {
     "data": {
      "text/plain": [
       "{'name': 'SemSegRandomSampler'}"
      ]
     },
     "execution_count": 8,
     "metadata": {},
     "output_type": "execute_result"
    }
   ],
   "source": [
    "cfg['dataset']['sampler']"
   ]
  },
  {
   "cell_type": "markdown",
   "id": "ddbbcc07",
   "metadata": {},
   "source": [
    "## Mutating Parameters\n",
    "\n",
    "If you want to change the keys or values in your config files, you may use dictionary synatx as shown below:"
   ]
  },
  {
   "cell_type": "code",
   "execution_count": 9,
   "id": "5706a884",
   "metadata": {},
   "outputs": [
    {
     "name": "stdout",
     "output_type": "stream",
     "text": [
      "NewSampler\n"
     ]
    }
   ],
   "source": [
    "cfg['dataset']['sampler'] = \"NewSampler\"\n",
    "\n",
    "print(cfg['dataset']['sampler'])"
   ]
  },
  {
   "cell_type": "markdown",
   "id": "63b16241",
   "metadata": {},
   "source": [
    "We may use object dot notation too. Let us change `dataset_path` using it."
   ]
  },
  {
   "cell_type": "code",
   "execution_count": 10,
   "id": "11006162",
   "metadata": {},
   "outputs": [
    {
     "name": "stdout",
     "output_type": "stream",
     "text": [
      "./SemanticKITTI\n"
     ]
    }
   ],
   "source": [
    "cfg.dataset.dataset_path = \"./SemanticKITTI\"\n",
    "\n",
    "print(cfg.dataset.dataset_path)"
   ]
  },
  {
   "cell_type": "markdown",
   "id": "25ab93fe",
   "metadata": {},
   "source": [
    "<div class=\"alert alert-info\">\n",
    "    **Note:** Original YAML file on disk remains unchanged!\n",
    "</div>"
   ]
  },
  {
   "cell_type": "markdown",
   "id": "32338adf",
   "metadata": {},
   "source": [
    "## Building Dataset Component"
   ]
  },
  {
   "cell_type": "markdown",
   "id": "6181b4de",
   "metadata": {},
   "source": [
    "Look at the code snippet below:\n",
    "\n",
    "```py\n",
    "# Read a dataset by specifying the path, cache directory, training split etc.\n",
    "dataset = ml3d.datasets.SemanticKITTI(dataset_path='SemanticKITTI/',\n",
    "                                      cache_dir='./logs/cache',\n",
    "                                      training_split=['00'],\n",
    "                                      validation_split=['01'],\n",
    "                                      test_split=['01'])\n",
    "```\n",
    "\n",
    "The `dataset` object is created by explicitly passing **dataset-specific parameters** to the constructor of `ml3d.datasets.SemanticKITTI` class. Instead of passing these parameters one by one manually we may use config files as shown below:"
   ]
  },
  {
   "cell_type": "code",
   "execution_count": 11,
   "id": "913f9c77",
   "metadata": {},
   "outputs": [
    {
     "name": "stdout",
     "output_type": "stream",
     "text": [
      "\n",
      "--------------------------------------------------------------------------------\n",
      "\n",
      " Using the Open3D PyTorch ops with CUDA 11 may have stability issues!\n",
      "\n",
      " We recommend to compile PyTorch from source with compile flags\n",
      "   '-Xcompiler -fno-gnu-unique'\n",
      "\n",
      " or use the PyTorch wheels at\n",
      "   https://github.com/isl-org/open3d_downloads/releases/tag/torch1.8.2\n",
      "\n",
      "\n",
      " Ignore this message if PyTorch has been compiled with the aforementioned\n",
      " flags.\n",
      "\n",
      " See https://github.com/isl-org/Open3D/issues/3324 and\n",
      " https://github.com/pytorch/pytorch/issues/52663 for more information on this\n",
      " problem.\n",
      "\n",
      "--------------------------------------------------------------------------------\n",
      "\n"
     ]
    }
   ],
   "source": [
    "import open3d.ml.torch as ml3d\n",
    "\n",
    "dataset = ml3d.datasets.SemanticKITTI(**cfg.dataset)"
   ]
  },
  {
   "cell_type": "markdown",
   "id": "35ca0ffb",
   "metadata": {},
   "source": [
    "Look at what properties the newly-created `dataset` object exposes with the Python `vars()` function:"
   ]
  },
  {
   "cell_type": "code",
   "execution_count": 12,
   "id": "8abcef5d",
   "metadata": {},
   "outputs": [
    {
     "data": {
      "text/plain": [
       "{'cfg': <open3d._ml3d.utils.config.Config at 0x7fbbe9f96110>,\n",
       " 'name': 'SemanticKITTI',\n",
       " 'rng': Generator(PCG64) at 0x7FBBE9D225F0,\n",
       " 'label_to_names': {0: 'unlabeled',\n",
       "  1: 'car',\n",
       "  2: 'bicycle',\n",
       "  3: 'motorcycle',\n",
       "  4: 'truck',\n",
       "  5: 'other-vehicle',\n",
       "  6: 'person',\n",
       "  7: 'bicyclist',\n",
       "  8: 'motorcyclist',\n",
       "  9: 'road',\n",
       "  10: 'parking',\n",
       "  11: 'sidewalk',\n",
       "  12: 'other-ground',\n",
       "  13: 'building',\n",
       "  14: 'fence',\n",
       "  15: 'vegetation',\n",
       "  16: 'trunk',\n",
       "  17: 'terrain',\n",
       "  18: 'pole',\n",
       "  19: 'traffic-sign'},\n",
       " 'num_classes': 20,\n",
       " 'remap_lut_val': array([ 0,  0,  0,  0,  0,  0,  0,  0,  0,  0,  1,  2,  0,  5,  0,  3,  5,\n",
       "         0,  4,  0,  5,  0,  0,  0,  0,  0,  0,  0,  0,  0,  6,  7,  8,  0,\n",
       "         0,  0,  0,  0,  0,  0,  9,  0,  0,  0, 10,  0,  0,  0, 11, 12, 13,\n",
       "        14,  0,  0,  0,  0,  0,  0,  0,  0,  9,  0,  0,  0,  0,  0,  0,  0,\n",
       "         0,  0, 15, 16, 17,  0,  0,  0,  0,  0,  0,  0, 18, 19,  0,  0,  0,\n",
       "         0,  0,  0,  0,  0,  0,  0,  0,  0,  0,  0,  0,  0,  0,  0,  0,  0,\n",
       "         0,  0,  0,  0,  0,  0,  0,  0,  0,  0,  0,  0,  0,  0,  0,  0,  0,\n",
       "         0,  0,  0,  0,  0,  0,  0,  0,  0,  0,  0,  0,  0,  0,  0,  0,  0,\n",
       "         0,  0,  0,  0,  0,  0,  0,  0,  0,  0,  0,  0,  0,  0,  0,  0,  0,\n",
       "         0,  0,  0,  0,  0,  0,  0,  0,  0,  0,  0,  0,  0,  0,  0,  0,  0,\n",
       "         0,  0,  0,  0,  0,  0,  0,  0,  0,  0,  0,  0,  0,  0,  0,  0,  0,\n",
       "         0,  0,  0,  0,  0,  0,  0,  0,  0,  0,  0,  0,  0,  0,  0,  0,  0,\n",
       "         0,  0,  0,  0,  0,  0,  0,  0,  0,  0,  0,  0,  0,  0,  0,  0,  0,\n",
       "         0,  0,  0,  0,  0,  0,  0,  0,  0,  0,  0,  0,  0,  0,  0,  0,  0,\n",
       "         0,  0,  0,  0,  0,  0,  0,  0,  0,  0,  0,  0,  0,  0,  1,  7,  6,\n",
       "         8,  5,  5,  4,  5,  0,  0,  0,  0,  0,  0,  0,  0,  0,  0,  0,  0,\n",
       "         0,  0,  0,  0,  0,  0,  0,  0,  0,  0,  0,  0,  0,  0,  0,  0,  0,\n",
       "         0,  0,  0,  0,  0,  0,  0,  0,  0,  0,  0,  0,  0,  0,  0,  0,  0,\n",
       "         0,  0,  0,  0,  0,  0,  0,  0,  0,  0,  0,  0,  0,  0,  0,  0,  0,\n",
       "         0,  0,  0,  0,  0,  0,  0,  0,  0,  0,  0,  0,  0,  0,  0,  0,  0,\n",
       "         0,  0,  0,  0,  0,  0,  0,  0,  0,  0,  0,  0,  0,  0,  0,  0,  0,\n",
       "         0,  0], dtype=int32),\n",
       " 'remap_lut': array([ 0, 10, 11, 15, 18, 20, 30, 31, 32, 40, 44, 48, 49, 50, 51, 70, 71,\n",
       "        72, 80, 81,  0,  0,  0,  0,  0,  0,  0,  0,  0,  0,  0,  0,  0,  0,\n",
       "         0,  0,  0,  0,  0,  0,  0,  0,  0,  0,  0,  0,  0,  0,  0,  0,  0,\n",
       "         0,  0,  0,  0,  0,  0,  0,  0,  0,  0,  0,  0,  0,  0,  0,  0,  0,\n",
       "         0,  0,  0,  0,  0,  0,  0,  0,  0,  0,  0,  0,  0,  0,  0,  0,  0,\n",
       "         0,  0,  0,  0,  0,  0,  0,  0,  0,  0,  0,  0,  0,  0,  0,  0,  0,\n",
       "         0,  0,  0,  0,  0,  0,  0,  0,  0,  0,  0,  0,  0,  0,  0,  0,  0],\n",
       "       dtype=int32)}"
      ]
     },
     "execution_count": 12,
     "metadata": {},
     "output_type": "execute_result"
    }
   ],
   "source": [
    "vars(dataset)"
   ]
  },
  {
   "cell_type": "markdown",
   "id": "6a41b47a",
   "metadata": {},
   "source": [
    "We may reference any property of the `dataset` using above syntax. For example, to find out what value the `num_classes` property holds, we use:"
   ]
  },
  {
   "cell_type": "code",
   "execution_count": 13,
   "id": "a05e5090",
   "metadata": {},
   "outputs": [
    {
     "data": {
      "text/plain": [
       "{0: 'unlabeled',\n",
       " 1: 'car',\n",
       " 2: 'bicycle',\n",
       " 3: 'motorcycle',\n",
       " 4: 'truck',\n",
       " 5: 'other-vehicle',\n",
       " 6: 'person',\n",
       " 7: 'bicyclist',\n",
       " 8: 'motorcyclist',\n",
       " 9: 'road',\n",
       " 10: 'parking',\n",
       " 11: 'sidewalk',\n",
       " 12: 'other-ground',\n",
       " 13: 'building',\n",
       " 14: 'fence',\n",
       " 15: 'vegetation',\n",
       " 16: 'trunk',\n",
       " 17: 'terrain',\n",
       " 18: 'pole',\n",
       " 19: 'traffic-sign'}"
      ]
     },
     "execution_count": 13,
     "metadata": {},
     "output_type": "execute_result"
    }
   ],
   "source": [
    "dataset.label_to_names"
   ]
  },
  {
   "cell_type": "markdown",
   "id": "b89d87c8",
   "metadata": {},
   "source": [
    "Similarly, we may bulild **model and pipeline components** using `cfg.model` and `cfg.pipeline` respectively. Have a look at training tutorials for code examples."
   ]
  }
 ],
 "metadata": {
  "kernelspec": {
   "display_name": "Python 3 (ipykernel)",
   "language": "python",
   "name": "python3"
  },
  "language_info": {
   "codemirror_mode": {
    "name": "ipython",
    "version": 3
   },
   "file_extension": ".py",
   "mimetype": "text/x-python",
   "name": "python",
   "nbconvert_exporter": "python",
   "pygments_lexer": "ipython3",
   "version": "3.7.13"
  }
 },
 "nbformat": 4,
 "nbformat_minor": 5
}

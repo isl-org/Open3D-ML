{
 "cells": [
  {
   "cell_type": "markdown",
   "id": "91802780",
   "metadata": {},
   "source": [
    "# Training a semantic segmentation model using TensorFlow"
   ]
  },
  {
   "cell_type": "markdown",
   "id": "6c42d107",
   "metadata": {},
   "source": [
    "In this tutorial, we will learn how to train a semantic segmentation model using `TensorFlow` in a Jupyter Notebook. We assume that you are familiar with Jupyter Notebook and have created a folder *notebooks* in a folder that is relative to *ml3d*.\n",
    "\n",
    "Before you begin, ensure that you have `TensorFlow` installed. To install a compatible version of `TensorFlow`, use the requirement file:\n",
    "\n",
    "```sh\n",
    "pip install -r requirements-tensorflow.txt\n",
    "```\n",
    "\n",
    "At a high level, we will:\n",
    "\n",
    "- Read a dataset and create a training split. Here, we will use the `SemanticKITTI` dataset.\n",
    "- Train a model. We will train a `RandLANet` model on the training split.\n",
    "- Run a test on a *'test'* split to evaluate the model.\n",
    "- Run an inference on a custom point cloud."
   ]
  },
  {
   "cell_type": "markdown",
   "id": "f788f8d5",
   "metadata": {},
   "source": [
    "## Reading a dataset\n",
    "\n",
    "Downloading scripts are available in: `Open3D-ML/scripts/download_datasets`\n",
    "\n",
    "You can use any dataset available in the `ml3d.datasets` dataset namespace. For this example, we will use the `SemanticKITTI` dataset and visualize it. You can use any of the other datasets to load data. However, you must understand that the parameters may vary for each dataset.\n",
    "\n",
    "We will read the dataset by specifying its path and then get all splits."
   ]
  },
  {
   "cell_type": "code",
   "execution_count": null,
   "id": "8714f23e",
   "metadata": {},
   "outputs": [],
   "source": [
    "# Training Semantic Segmentation Model using TensorFlow\n",
    "\n",
    "# import tensorflow\n",
    "import open3d.ml.tf as ml3d\n",
    "\n",
    "# Read a dataset by specifying the path. We are also providing the cache directory and training split.\n",
    "dataset = ml3d.datasets.SemanticKITTI(dataset_path='./SemanticKITTI/',\n",
    "                                      cache_dir='./logs/cache',\n",
    "                                      training_split=['00'])\n",
    "\n",
    "# Split the dataset for 'training'. You can get the other splits by passing 'validation' or 'test'\n",
    "train_split = dataset.get_split('training')\n",
    "\n",
    "# view the first 1000 frames using the visualizer\n",
    "# MyVis = ml3d.vis.Visualizer()\n",
    "# MyVis.visualize_dataset(dataset, 'training',indices=range(1))"
   ]
  },
  {
   "cell_type": "markdown",
   "id": "9d46e91b",
   "metadata": {},
   "source": [
    "Now that you have visualized the dataset for training, let us train the model."
   ]
  },
  {
   "cell_type": "markdown",
   "id": "cb4d73cd",
   "metadata": {},
   "source": [
    "## Training a model\n",
    "\n",
    "`TensorFlow` maps nearly all of GPU memory by default. This may result in out_of_memory error if some of the ops allocate memory independent to tensorflow. You may want to limit memory usage as and when needed by the process. Use following code right after importing tensorflow:"
   ]
  },
  {
   "cell_type": "code",
   "execution_count": null,
   "id": "90c55d8d",
   "metadata": {},
   "outputs": [],
   "source": [
    "import tensorflow as tf\n",
    "gpus = tf.config.experimental.list_physical_devices('GPU')\n",
    "if gpus:\n",
    "    try:\n",
    "        for gpu in gpus:\n",
    "            tf.config.experimental.set_memory_growth(gpu, True)\n",
    "    except RuntimeError as e:\n",
    "        print(e)"
   ]
  },
  {
   "cell_type": "markdown",
   "id": "9ef4c76d",
   "metadata": {},
   "source": [
    "Refer to [this link](https://www.tensorflow.org/guide/gpu#limiting_gpu_memory_growth) for more details.\n",
    "\n",
    "First, import the desired model from `open3d.ml.torch.models`.\n",
    "\n",
    "After you load a dataset, you can initialize any model and then train the model. The following example shows how you can train RandLANet:"
   ]
  },
  {
   "cell_type": "code",
   "execution_count": null,
   "id": "66b92b2d",
   "metadata": {},
   "outputs": [],
   "source": [
    "# Training Semantic Segmentation Model using TensorFlow\n",
    "\n",
    "# Import tensorflow and the model to use for training\n",
    "import open3d.ml.tf as ml3d\n",
    "from open3d.ml.tf.models import RandLANet\n",
    "from open3d.ml.tf.pipelines import SemanticSegmentation\n",
    "\n",
    "# Read a dataset by specifying the path. We are also providing the cache directory and training split.\n",
    "dataset = ml3d.datasets.SemanticKITTI(dataset_path='SemanticKITTI/',\n",
    "                                      cache_dir='./logs/cache',\n",
    "                                      training_split=['00'],\n",
    "                                      validation_split=['01'],\n",
    "                                      test_split=['01'])\n",
    "\n",
    "# Initialize the RandLANet model with three layers.\n",
    "model = RandLANet(dim_input=3, augment={})\n",
    "pipeline = SemanticSegmentation(model=model,\n",
    "                                dataset=dataset,\n",
    "                                max_epoch=3,\n",
    "                                optimizer={'learning_rate': 0.001})\n",
    "\n",
    "# Run the training\n",
    "pipeline.run_train()"
   ]
  },
  {
   "cell_type": "markdown",
   "id": "0e99379b",
   "metadata": {},
   "source": [
    "The training checkpoints are saved in: `pipeline.main_log_dir` (default path is: “./logs/Model_Dataset/“). You can use them for testing and inference."
   ]
  },
  {
   "cell_type": "markdown",
   "id": "001c40dc",
   "metadata": {},
   "source": [
    "## Running a test\n",
    "\n",
    "Running a test is very similar to training the model.\n",
    "\n",
    "We can call the `run_test()` method, and it will run inference on the test split."
   ]
  },
  {
   "cell_type": "code",
   "execution_count": null,
   "id": "9b936b96",
   "metadata": {},
   "outputs": [],
   "source": [
    "# Run the test\n",
    "pipeline.run_test()"
   ]
  },
  {
   "cell_type": "markdown",
   "id": "d0b482d8",
   "metadata": {},
   "source": [
    "## Running an inference\n",
    "\n",
    "An inference processes point cloud and displays the results based on the trained model. For this example, we will use a trained `RandLANet` model.\n",
    "\n",
    "This example gets the pipeline, model, and dataset based on our previous training example. It runs the inference based the \"train\" split and prints the results."
   ]
  },
  {
   "cell_type": "code",
   "execution_count": null,
   "id": "c3c7dbc9",
   "metadata": {},
   "outputs": [],
   "source": [
    "# Get data from the SemanticKITTI dataset using the \"test\" split\n",
    "train_split = dataset.get_split(\"test\")\n",
    "data = train_split.get_data(0)\n",
    "\n",
    "# Run the inference\n",
    "results = pipeline.run_inference(data)\n",
    "\n",
    "# Print the results\n",
    "print(results)"
   ]
  },
  {
   "cell_type": "code",
   "execution_count": null,
   "id": "633dab8c",
   "metadata": {},
   "outputs": [],
   "source": []
  }
 ],
 "metadata": {
  "kernelspec": {
   "display_name": "Python 3 (ipykernel)",
   "language": "python",
   "name": "python3"
  },
  "language_info": {
   "codemirror_mode": {
    "name": "ipython",
    "version": 3
   },
   "file_extension": ".py",
   "mimetype": "text/x-python",
   "name": "python",
   "nbconvert_exporter": "python",
   "pygments_lexer": "ipython3",
   "version": "3.10.4"
  }
 },
 "nbformat": 4,
 "nbformat_minor": 5
}
